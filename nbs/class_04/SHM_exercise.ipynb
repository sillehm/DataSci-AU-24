{
 "cells": [
  {
   "cell_type": "markdown",
   "metadata": {},
   "source": [
    "# Class 4 - Bias-variance trade-off and Decision Trees\n",
    "Yesterday, we introduce the notions of bias and variance, which quantify two dimensions of error in predictive modeling. We saw that:\n",
    "- *Bias* is the distance between the average of predictions made by a given model when trained on different training sets and the predictions made by the true model;\n",
    "- *Variance* is the variance of predictions made by a given model when trained on different training sets.\n",
    "\n",
    "Importantly, bias and variance are modulated by the complexity or flexibility of a model in different ways. As complexity/flexibility increases, bias tends to decrease, while variance increases.\n",
    "\n",
    "This is why we talk about a _bias-variance trade-off_: ideally, we want to minimize both sources of prediction error, but in practice, modeling decisions that lead to lower bias will also lead to higher variance (and viceversa).\n",
    "What we want to do when designing our model is to hit the optimal balance between bias and variance.\n",
    "\n",
    "Alongside this, we introduced **decision trees** as an additional modeling algorithm for both regression and classification.\n",
    "Decision trees are implemented in `scikit-learn`. You can check out this link for a brush-up of what they are with some examples: https://scikit-learn.org/stable/modules/tree.html. \n",
    "Classes for regression (`DecisionTreeRegressor`) and classification (`DecisionTreeClassifier`) are documented respectively at: https://scikit-learn.org/stable/modules/generated/sklearn.tree.DecisionTreeClassifier.html and https://scikit-learn.org/stable/modules/generated/sklearn.tree.DecisionTreeRegressor.html. \n",
    "We have discussed hyperparameters of decision trees that influence its complexity and flexibility (e.g., tree depth, minimum number of total samples per leaf), and discussed why flexibility matters for learning good decision trees.\n",
    "\n",
    "In this exercise, we will take a break from our attempt to model bike data (fear not, we will resume next week and combine all we have learned so far with tree-based bagging and boosting methods, which we will introduce next week).\n",
    "Our goal for today is see some of the notions we have introduced theoretically during our lecture in action, to get a better grasp of these complex notions.\n",
    "We will look at a practical example of how bias and variance are modulated by model flexibility, using a linear model and decision trees as a test case."
   ]
  },
  {
   "cell_type": "markdown",
   "metadata": {},
   "source": [
    "### Today's plan\n",
    "**Step 1** - Generating Data:\n",
    "1. Generate 1000 data points from a uniform distribution, using `numpy.random.uniform` (https://numpy.org/doc/stable/reference/random/generated/numpy.random.uniform.html). Set the minimum value to -10 and the maximum value to 10. This will be your $x$.\n",
    "2. Generate polynomial terms for x, using `sklearn.preprocessing.PolynomialFeatures` (https://scikit-learn.org/stable/modules/generated/sklearn.preprocessing.PolynomialFeatures.html)\n",
    "3. Generate 4 random coefficients $\\beta_{i}$ from a uniform distribution (same parameters as above)\n",
    "4. Generate an outcome variable using the following equation: $y = \\beta_{0} + \\beta_{1} * x + \\beta_{2} * x^2 + \\beta_{3} * x^3 $. To do so, you might find \n",
    "5. Add some Gaussian noise to your $y$ using `np.random.normal` (set the `scale` parameter to 10 to make this noise \"visible\", see https://numpy.org/doc/stable/reference/random/generated/numpy.random.normal.html)\n",
    "6. Plot the relation between $x$ and $y$\n",
    "7. Finally, split your data into two halves, a training and a test set, using sklearn's `train_test_split`\n",
    "\n",
    "**Step 2** - Compute squared bias and variance of linear models with increasing complexity:\n",
    "1. Compute average **squared bias**, **variance**, and **MSE** for a linear model that only uses *x* as input feature.\n",
    "    - To do so, you need to create a loop where you take random samples of the training data (1/2 the size of the training set), say, 100 times. This process is called **bootstrapping**.\n",
    "    - For each random split of the data:\n",
    "        - You fit a `LinearRegression` estimator on the sampled data\n",
    "        - You predict $\\hat{y}$ for all test data points\n",
    "        - You compute the average **squared** bias across all data points in the test set. To do so you need to:\n",
    "            1. Compute the average prediction of your bootstrapped models for each data point\n",
    "            2. Compute the difference between these values and the predictions of the true model for each data point\n",
    "            3. Take the squared value of that\n",
    "            4. Average across all data points\n",
    "            5. NOTE: we look at the average *squared* bias, because the bias of a single data point encodes information about the *directionality* of the error. If we averaged those values, we will underestimate models' tendency to make systematic errors.\n",
    "        - You compute the average variance of the predictions of bootstrapped models across all data points in the test set\n",
    "        - You compute the average MSE of your method (computing the average of MSEs of each bootstrapped model)\n",
    "2. Now that you know how to compute this, scale this up. Fit linear regressions with input features that include increasingly high polynomial expansions of your feature set (first only $x, x^2$, then $x, x^2, x^3$ and all the way up to $x,...,x^{10}$)\n",
    "3. Make a plot where you show how bias, variance and MSE change as a function of model complexity (i.e., how many polynomials you include)\n",
    "4. Look at the patterns emerging from the plot and discuss them with your group: what do you notice?\n",
    "\n",
    "**Bonus tasks**:\n",
    "- We have talked about decision trees in the lecture. Can you do minimal changes to the code above, to look at how bias and variance change as a function of the expected depth of a tree, or additional parameters related to the complexity of a decision tree? Use `DecisionTreeRegressor` (https://scikit-learn.org/stable/modules/generated/sklearn.tree.DecisionTreeRegressor.html) as an extractor, and loop over multiple values of `max_depth` (e.g., ranging from 1 to 20)\n",
    "- How do your results change as you manipulate parameters such as the the true generative model (e.g., its complexity), the size of bootstrapped data samples, etc?\n"
   ]
  },
  {
   "cell_type": "markdown",
   "metadata": {},
   "source": [
    "### Solutions\n",
    "As usual, you will find a solution in `example.ipynb`"
   ]
  },
  {
   "cell_type": "markdown",
   "metadata": {},
   "source": []
  },
  {
   "cell_type": "code",
   "execution_count": 1,
   "metadata": {},
   "outputs": [],
   "source": [
    "from sklearn.preprocessing import PolynomialFeatures\n",
    "from sklearn.linear_model import LinearRegression\n",
    "from sklearn.model_selection import train_test_split, GridSearchCV\n",
    "from sklearn.tree import DecisionTreeRegressor\n",
    "from sklearn import tree as tr\n",
    "from sklearn.metrics import mean_squared_error\n",
    "from sklearn.preprocessing import MinMaxScaler\n",
    "\n",
    "import numpy as np\n",
    "import pandas as pd\n",
    "import seaborn as sns\n",
    "\n",
    "from matplotlib import pyplot as plt"
   ]
  },
  {
   "cell_type": "markdown",
   "metadata": {},
   "source": [
    "## 1. data generation"
   ]
  },
  {
   "cell_type": "code",
   "execution_count": 2,
   "metadata": {},
   "outputs": [],
   "source": [
    "# Generate 1000 random x values\n",
    "x = np.random.uniform(low=-10, high=10, size=(1000,1))"
   ]
  },
  {
   "cell_type": "code",
   "execution_count": 3,
   "metadata": {},
   "outputs": [],
   "source": [
    "# Generate polynomial terms - to a degree of 3\n",
    "X = PolynomialFeatures(degree=3).fit_transform(x)"
   ]
  },
  {
   "cell_type": "code",
   "execution_count": 15,
   "metadata": {},
   "outputs": [
    {
     "data": {
      "text/plain": [
       "(1000, 4)"
      ]
     },
     "execution_count": 15,
     "metadata": {},
     "output_type": "execute_result"
    }
   ],
   "source": [
    "X.shape"
   ]
  },
  {
   "cell_type": "markdown",
   "metadata": {},
   "source": [
    "Now X is a twodimensional array AKA matrix with 1000 rows and 4 features"
   ]
  },
  {
   "cell_type": "code",
   "execution_count": 4,
   "metadata": {},
   "outputs": [],
   "source": [
    "# Generate random coefficients\n",
    "coefs = np.random.uniform(low=-10, high=10, size=(1,4))"
   ]
  },
  {
   "cell_type": "code",
   "execution_count": 22,
   "metadata": {},
   "outputs": [
    {
     "data": {
      "text/plain": [
       "array([[ 2.90395784,  6.71720341,  9.46815624, -4.83862472]])"
      ]
     },
     "execution_count": 22,
     "metadata": {},
     "output_type": "execute_result"
    }
   ],
   "source": [
    "coefs"
   ]
  },
  {
   "cell_type": "code",
   "execution_count": 5,
   "metadata": {},
   "outputs": [],
   "source": [
    "y = X*coefs # multiply the values in the 4 coulumns with the coefficient for that column (or polynomial term)\n",
    "y = np.sum(y, axis=1) # sum to get y (y = b*x0 + b*x1 ...), axis 1 to sum over the four columns\n",
    "\n",
    "# Adding noise\n",
    "y = y + np.random.normal(0, 100, size=y.shape)"
   ]
  },
  {
   "cell_type": "code",
   "execution_count": 6,
   "metadata": {},
   "outputs": [],
   "source": [
    "# Could have been done in one line\n",
    "y = np.sum(X * coefs + np.random.normal(0, 100, size=X.shape), axis=1)"
   ]
  },
  {
   "cell_type": "code",
   "execution_count": 32,
   "metadata": {},
   "outputs": [
    {
     "data": {
      "text/plain": [
       "(1000,)"
      ]
     },
     "execution_count": 32,
     "metadata": {},
     "output_type": "execute_result"
    }
   ],
   "source": [
    "y.shape"
   ]
  },
  {
   "cell_type": "code",
   "execution_count": 7,
   "metadata": {},
   "outputs": [
    {
     "data": {
      "image/png": "[encoded data removed]",
      "text/plain": [
       "<Figure size 640x480 with 1 Axes>"
      ]
     },
     "metadata": {},
     "output_type": "display_data"
    }
   ],
   "source": [
    "# Plot relation\n",
    "sns.scatterplot(x=x[:,0], y=y) # lille x! [:,0] for at få values ud - se hvordan x er struktureret som array[[...]]\n",
    "plt.show()"
   ]
  },
  {
   "cell_type": "code",
   "execution_count": 8,
   "metadata": {},
   "outputs": [],
   "source": [
    "# Splitting into train and test\n",
    "X_train, X_test, y_train, y_test = train_test_split(X, y, train_size=.5)"
   ]
  },
  {
   "cell_type": "code",
   "execution_count": 9,
   "metadata": {},
   "outputs": [],
   "source": [
    "# making true predictions\n",
    "y_pred_true = np.sum(X_test*coefs, axis=1)"
   ]
  },
  {
   "cell_type": "markdown",
   "metadata": {},
   "source": [
    "## 2. Bias and variance computation"
   ]
  },
  {
   "cell_type": "code",
   "execution_count": 10,
   "metadata": {},
   "outputs": [],
   "source": [
    "# function for computing squared bias \n",
    "def _compute_bias(pred, true): \n",
    "\n",
    "    mpred = pred.mean(axis = 1) # average predictions for each row across bootstraps\n",
    "\n",
    "    return (((true - mpred)**2)).mean() # squaring the difference between true and predicted and returning the average\n"
   ]
  },
  {
   "cell_type": "code",
   "execution_count": 11,
   "metadata": {},
   "outputs": [],
   "source": [
    "# function for computing variance\n",
    "def _compute_variance(pred): # _ for at indikere at functionen KUN bliver brugt som hjælpefunction inden i en anden funktion\n",
    "\n",
    "    return pred.var(axis = 1).mean() # finding the variance of the predictions across bootstraps returning an average of these"
   ]
  },
  {
   "cell_type": "code",
   "execution_count": 1,
   "metadata": {},
   "outputs": [
    {
     "ename": "NameError",
     "evalue": "name 'pd' is not defined",
     "output_type": "error",
     "traceback": [
      "\u001b[0;31m---------------------------------------------------------------------------\u001b[0m",
      "\u001b[0;31mNameError\u001b[0m                                 Traceback (most recent call last)",
      "\u001b[1;32m/work/SilleHasselbalchMarkussen#4503/DataSci-AU-24/nbs/class_04/SHM_exercise.ipynb Cell 22\u001b[0m line \u001b[0;36m2\n\u001b[1;32m      <a href='vscode-notebook-cell://app-5024242-0.cloud.sdu.dk/work/SilleHasselbalchMarkussen%234503/DataSci-AU-24/nbs/class_04/SHM_exercise.ipynb#X34sdnNjb2RlLXJlbW90ZQ%3D%3D?line=0'>1</a>\u001b[0m \u001b[39m# loading performances from last\u001b[39;00m\n\u001b[0;32m----> <a href='vscode-notebook-cell://app-5024242-0.cloud.sdu.dk/work/SilleHasselbalchMarkussen%234503/DataSci-AU-24/nbs/class_04/SHM_exercise.ipynb#X34sdnNjb2RlLXJlbW90ZQ%3D%3D?line=1'>2</a>\u001b[0m perf_df \u001b[39m=\u001b[39m pd\u001b[39m.\u001b[39mread_csv(\u001b[39m\"\u001b[39m\u001b[39m/work/SilleHasselbalchMarkussen#4503/DataSci-AU-24/nbs/group_RMDS/log/performances.csv\u001b[39m\u001b[39m\"\u001b[39m, index_col\u001b[39m=\u001b[39m\u001b[39m0\u001b[39m)\n\u001b[1;32m      <a href='vscode-notebook-cell://app-5024242-0.cloud.sdu.dk/work/SilleHasselbalchMarkussen%234503/DataSci-AU-24/nbs/class_04/SHM_exercise.ipynb#X34sdnNjb2RlLXJlbW90ZQ%3D%3D?line=2'>3</a>\u001b[0m performances \u001b[39m=\u001b[39m perf_df\u001b[39m.\u001b[39mto_dict(orient\u001b[39m=\u001b[39m\u001b[39m'\u001b[39m\u001b[39mrecords\u001b[39m\u001b[39m'\u001b[39m)\n",
      "\u001b[0;31mNameError\u001b[0m: name 'pd' is not defined"
     ]
    }
   ],
   "source": [
    "# loading performances from last\n",
    "perf_df = pd.read_csv(\"/work/SilleHasselbalchMarkussen#4503/DataSci-AU-24/nbs/group_RMDS/log/performances.csv\", index_col=0)\n",
    "performances = perf_df.to_dict(orient='records')"
   ]
  },
  {
   "cell_type": "code",
   "execution_count": 17,
   "metadata": {},
   "outputs": [],
   "source": [
    "n_sim = 100 # this defines how many times we do bootstrapping\n",
    "pred_all = np.zeros(shape=(y_test.shape[0], n_sim)) # empty array, which will store our predictions across bootstraps\n",
    "\n",
    "\n",
    "reg = LinearRegression() # initialize the model \n",
    "transformer = PolynomialFeatures(degree=3)\n",
    "\n",
    "# bootstrapping\n",
    "for sim in range(n_sim): # bootstrap n_sim times\n",
    "    x, _, y, _ = train_test_split(X_train, y_train, train_size=.5) # sample half of the data - _ are used as place holders\n",
    "    x_fit = transformer.fit_transform(x[:,1].reshape(-1,1)) # take x, and add all polynomials all the way to c (current complexity)\n",
    "    x_test = transformer.fit_transform(X_test[:,1].reshape(-1,1)) # do the same with the test set\n",
    "    reg.fit(x_fit,y) # fit the model\n",
    "    preds = reg.predict(x_test) # predict the outcomes\n",
    "    pred_all[:,sim] = preds # store that in the big result matrix\n",
    "\n",
    "\n",
    "# once we are done bootstrapping, we have predictions for all models\n",
    "mse = np.mean([np.sqrt(mean_squared_error(y_test, \n",
    "                                            pred_all[:,sim])) # compute the average MSE of the models\n",
    "                for sim in range(n_sim)]) # list comprehension - doing this for all bootstraps\n",
    "\n",
    "\n",
    "# computing performance\n",
    "bias = _compute_bias(pred_all, y_pred_true) # get bias - y_pred_true from cell above\n",
    "variance = _compute_variance(pred_all) # get variance\n",
    "info = ('linear', bias, variance, mse)\n",
    "performances.append(info) # append model info to performances\n",
    "\n",
    "# Getting the results into a dataframe \n",
    "outputs = ['mtype', # this is the information we want to store in the DF\n",
    "           'bias^2', \n",
    "           'variance', \n",
    "           'mse']\n",
    "result = pd.DataFrame(performances, columns=outputs)"
   ]
  },
  {
   "cell_type": "code",
   "execution_count": 18,
   "metadata": {},
   "outputs": [
    {
     "data": {
      "text/html": [
       "<div>\n",
       "<style scoped>\n",
       "    .dataframe tbody tr th:only-of-type {\n",
       "        vertical-align: middle;\n",
       "    }\n",
       "\n",
       "    .dataframe tbody tr th {\n",
       "        vertical-align: top;\n",
       "    }\n",
       "\n",
       "    .dataframe thead th {\n",
       "        text-align: right;\n",
       "    }\n",
       "</style>\n",
       "<table border=\"1\" class=\"dataframe\">\n",
       "  <thead>\n",
       "    <tr style=\"text-align: right;\">\n",
       "      <th></th>\n",
       "      <th>mtype</th>\n",
       "      <th>bias^2</th>\n",
       "      <th>variance</th>\n",
       "      <th>mse</th>\n",
       "    </tr>\n",
       "  </thead>\n",
       "  <tbody>\n",
       "    <tr>\n",
       "      <th>0</th>\n",
       "      <td>linear</td>\n",
       "      <td>135.043217</td>\n",
       "      <td>327.687215</td>\n",
       "      <td>201.137362</td>\n",
       "    </tr>\n",
       "  </tbody>\n",
       "</table>\n",
       "</div>"
      ],
      "text/plain": [
       "    mtype      bias^2    variance         mse\n",
       "0  linear  135.043217  327.687215  201.137362"
      ]
     },
     "execution_count": 18,
     "metadata": {},
     "output_type": "execute_result"
    }
   ],
   "source": [
    "result"
   ]
  },
  {
   "cell_type": "markdown",
   "metadata": {},
   "source": [
    "#### Scaled up - varying complexity (Roberta's code)"
   ]
  },
  {
   "cell_type": "code",
   "execution_count": null,
   "metadata": {},
   "outputs": [],
   "source": [
    "max_degree = 10 # this defines the most complex model we will fit (with x, ..., x^10) as inputs\n",
    "n_sim = 1000 # this defines how many times we do bootstrapping\n",
    "performances = [] # here we will store performances\n",
    "results = [] # here we store performances as a DF (see logic in the loop)\n",
    "outputs = ['mtype', # this is the information we want to store in the DF\n",
    "           'complexity', \n",
    "           'bias^2', \n",
    "           'variance', \n",
    "           'mse']\n",
    "\n",
    "for c in range(1, max_degree):\n",
    "    reg = LinearRegression() # initialize the model \n",
    "    pred_all = np.zeros(shape=(y_test.shape[0], n_sim)) # empty array, which will store our predictions across bootstraps\n",
    "    for sim in range(n_sim): # bootstrap n_sim times\n",
    "        x, _, y, _ = train_test_split(X_train, y_train, train_size=.5) # sample half of the data\n",
    "        transformer = PolynomialFeatures(degree=c)\n",
    "        x_fit = transformer.fit_transform(x[:,1].reshape(-1,1)) # take x, and add all polynomials all the way to c (current complexity)\n",
    "        x_test = transformer.fit_transform(X_test[:,1].reshape(-1,1)) # do the same with the test set\n",
    "        reg.fit(x_fit,y) # fit the model\n",
    "        preds = reg.predict(x_test) # predict the outcomes\n",
    "        pred_all[:,sim] = preds # store that in the big result matrix\n",
    "\n",
    "    # once we are done bootstrapping, we have predictions for all models\n",
    "    mse = np.mean([np.sqrt(mean_squared_error(y_test, \n",
    "                                              pred_all[:,sim])) # compute the average MSE of the models\n",
    "                    for sim in range(n_sim)])\n",
    "    bias = _compute_bias(pred_all, y_pred_true) # get bias\n",
    "    variance = _compute_variance(pred_all) # get variance\n",
    "    info = ('linear', x_fit.shape[1]-1, bias, variance, mse)\n",
    "    performances.append(info) # append model info to performances\n",
    "\n",
    "# Getting the results into a dataframe \n",
    "result = pd.DataFrame(performances, columns=outputs)\n",
    "for c in ['bias^2', 'variance', 'mse']:\n",
    "    result[f'{c}-scaled'] = MinMaxScaler().fit_transform(result[c].values.reshape(-1,1)) # rescale, so bias and variance are on the same scale\n",
    "results.append(result)\n",
    "performances = []"
   ]
  }
 ],
 "metadata": {
  "kernelspec": {
   "display_name": "env",
   "language": "python",
   "name": "env"
  },
  "language_info": {
   "codemirror_mode": {
    "name": "ipython",
    "version": 3
   },
   "file_extension": ".py",
   "mimetype": "text/x-python",
   "name": "python",
   "nbconvert_exporter": "python",
   "pygments_lexer": "ipython3",
   "version": "3.10.12"
  }
 },
 "nbformat": 4,
 "nbformat_minor": 2
}
